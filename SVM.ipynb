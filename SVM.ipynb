{
 "cells": [
  {
   "cell_type": "code",
   "execution_count": 1,
   "id": "e00cc2f6",
   "metadata": {},
   "outputs": [
    {
     "name": "stderr",
     "output_type": "stream",
     "text": [
      "WARNING: An illegal reflective access operation has occurred\n",
      "WARNING: Illegal reflective access by org.apache.spark.unsafe.Platform (file:/home/ubuntu/.local/lib/python3.10/site-packages/pyspark/jars/spark-unsafe_2.12-3.2.1.jar) to constructor java.nio.DirectByteBuffer(long,int)\n",
      "WARNING: Please consider reporting this to the maintainers of org.apache.spark.unsafe.Platform\n",
      "WARNING: Use --illegal-access=warn to enable warnings of further illegal reflective access operations\n",
      "WARNING: All illegal access operations will be denied in a future release\n",
      "Using Spark's default log4j profile: org/apache/spark/log4j-defaults.properties\n",
      "Setting default log level to \"WARN\".\n",
      "To adjust logging level use sc.setLogLevel(newLevel). For SparkR, use setLogLevel(newLevel).\n",
      "22/10/13 05:41:56 WARN NativeCodeLoader: Unable to load native-hadoop library for your platform... using builtin-java classes where applicable\n"
     ]
    }
   ],
   "source": [
    "#import findspark\n",
    "#findspark.init('/home/ubuntu/spark-3.2.1-bin-hadoop2.7')\n",
    "import pyspark\n",
    "from pyspark.sql import *\n",
    "spark = SparkSession.builder.appName('LVM_stroke_stroke').getOrCreate()"
   ]
  },
  {
   "cell_type": "code",
   "execution_count": 2,
   "id": "bd78de7b",
   "metadata": {},
   "outputs": [
    {
     "name": "stderr",
     "output_type": "stream",
     "text": [
      "\r",
      "[Stage 0:>                                                          (0 + 1) / 1]\r",
      "\r",
      "                                                                                \r"
     ]
    }
   ],
   "source": [
    "data = spark.read.csv(\"./database/df_con.csv\",inferSchema=True,header=True)\n",
    "#data.columns"
   ]
  },
  {
   "cell_type": "code",
   "execution_count": 3,
   "id": "a0821a7e",
   "metadata": {},
   "outputs": [],
   "source": [
    "my_cols = data.select(['age', 'hypertension', 'heart_disease', 'avg_glucose_level', 'bmi', 'smoking_status',\n",
    " 'stroke', 'age_grade'])"
   ]
  },
  {
   "cell_type": "code",
   "execution_count": 4,
   "id": "e8dc4ab1",
   "metadata": {},
   "outputs": [],
   "source": [
    "from pyspark.ml.feature import (VectorAssembler,VectorIndexer,\n",
    "                                OneHotEncoder,StringIndexer)"
   ]
  },
  {
   "cell_type": "code",
   "execution_count": 5,
   "id": "bb0cb0d9",
   "metadata": {},
   "outputs": [],
   "source": [
    "assembler = VectorAssembler(inputCols=['hypertension',\n",
    " 'heart_disease',\n",
    " 'avg_glucose_level',\n",
    " 'bmi',\n",
    " 'smoking_status',\n",
    " 'age_grade'],outputCol='features')"
   ]
  },
  {
   "cell_type": "code",
   "execution_count": 6,
   "id": "ce650e9c",
   "metadata": {},
   "outputs": [],
   "source": [
    "from pyspark.ml.classification import LinearSVC\n",
    "from pyspark.ml import Pipeline"
   ]
  },
  {
   "cell_type": "code",
   "execution_count": 7,
   "id": "099f8aeb",
   "metadata": {},
   "outputs": [],
   "source": [
    "lsvm = LinearSVC(featuresCol='features',labelCol='stroke')"
   ]
  },
  {
   "cell_type": "code",
   "execution_count": 8,
   "id": "9e6fbb04",
   "metadata": {},
   "outputs": [],
   "source": [
    "pipeline = Pipeline(stages=[assembler,lsvm])"
   ]
  },
  {
   "cell_type": "code",
   "execution_count": 9,
   "id": "a8db9444",
   "metadata": {},
   "outputs": [],
   "source": [
    "train_data, test_data = data.randomSplit([0.7,.3])"
   ]
  },
  {
   "cell_type": "code",
   "execution_count": 10,
   "id": "e018a737",
   "metadata": {},
   "outputs": [
    {
     "name": "stderr",
     "output_type": "stream",
     "text": [
      "22/10/13 05:42:30 WARN CSVHeaderChecker: CSV header does not conform to the schema.\n",
      " Header: , id, age, hypertension, heart_disease, avg_glucose_level, bmi, smoking_status, stroke, id, age_grade\n",
      " Schema: _c0, id1, age, hypertension, heart_disease, avg_glucose_level, bmi, smoking_status, stroke, id9, age_grade\n",
      "Expected: _c0 but found: \n",
      "CSV file: file:///home/ubuntu/database/df_con.csv\n",
      "22/10/13 05:42:32 WARN CSVHeaderChecker: CSV header does not conform to the schema.\n",
      " Header: , id, age, hypertension, heart_disease, avg_glucose_level, bmi, smoking_status, stroke, id, age_grade\n",
      " Schema: _c0, id1, age, hypertension, heart_disease, avg_glucose_level, bmi, smoking_status, stroke, id9, age_grade\n",
      "Expected: _c0 but found: \n",
      "CSV file: file:///home/ubuntu/database/df_con.csv\n"
     ]
    }
   ],
   "source": [
    "fit_model = pipeline.fit(train_data)"
   ]
  },
  {
   "cell_type": "code",
   "execution_count": 11,
   "id": "4fe0cb1e",
   "metadata": {},
   "outputs": [],
   "source": [
    "results = fit_model.transform(test_data)"
   ]
  },
  {
   "cell_type": "code",
   "execution_count": 12,
   "id": "9697e0d3",
   "metadata": {},
   "outputs": [],
   "source": [
    "from pyspark.ml.evaluation import BinaryClassificationEvaluator\n",
    "\n",
    "my_eval = BinaryClassificationEvaluator(rawPredictionCol='prediction',\n",
    "                                       labelCol='stroke')"
   ]
  },
  {
   "cell_type": "code",
   "execution_count": 13,
   "id": "bab19534",
   "metadata": {},
   "outputs": [
    {
     "name": "stdout",
     "output_type": "stream",
     "text": [
      "+------+----------+\n",
      "|stroke|prediction|\n",
      "+------+----------+\n",
      "|     1|       0.0|\n",
      "|     1|       0.0|\n",
      "|     1|       0.0|\n",
      "|     1|       0.0|\n",
      "|     1|       0.0|\n",
      "|     1|       0.0|\n",
      "|     1|       0.0|\n",
      "|     1|       0.0|\n",
      "|     1|       0.0|\n",
      "|     1|       0.0|\n",
      "|     1|       0.0|\n",
      "|     1|       0.0|\n",
      "|     1|       0.0|\n",
      "|     1|       0.0|\n",
      "|     1|       0.0|\n",
      "|     1|       0.0|\n",
      "|     1|       0.0|\n",
      "|     1|       0.0|\n",
      "|     1|       0.0|\n",
      "|     1|       0.0|\n",
      "+------+----------+\n",
      "only showing top 20 rows\n",
      "\n"
     ]
    },
    {
     "name": "stderr",
     "output_type": "stream",
     "text": [
      "22/10/13 05:43:00 WARN CSVHeaderChecker: CSV header does not conform to the schema.\n",
      " Header: , id, age, hypertension, heart_disease, avg_glucose_level, bmi, smoking_status, stroke, id, age_grade\n",
      " Schema: _c0, id1, age, hypertension, heart_disease, avg_glucose_level, bmi, smoking_status, stroke, id9, age_grade\n",
      "Expected: _c0 but found: \n",
      "CSV file: file:///home/ubuntu/database/df_con.csv\n"
     ]
    }
   ],
   "source": [
    "results.select('stroke','prediction').show()"
   ]
  },
  {
   "cell_type": "code",
   "execution_count": 14,
   "id": "649ecc7a",
   "metadata": {},
   "outputs": [
    {
     "name": "stderr",
     "output_type": "stream",
     "text": [
      "22/10/13 05:43:02 WARN CSVHeaderChecker: CSV header does not conform to the schema.\n",
      " Header: , id, age, hypertension, heart_disease, avg_glucose_level, bmi, smoking_status, stroke, id, age_grade\n",
      " Schema: _c0, id1, age, hypertension, heart_disease, avg_glucose_level, bmi, smoking_status, stroke, id9, age_grade\n",
      "Expected: _c0 but found: \n",
      "CSV file: file:///home/ubuntu/database/df_con.csv\n"
     ]
    },
    {
     "data": {
      "text/plain": [
       "0.5"
      ]
     },
     "execution_count": 14,
     "metadata": {},
     "output_type": "execute_result"
    }
   ],
   "source": [
    "AUC = my_eval.evaluate(results)\n",
    "\n",
    "AUC"
   ]
  },
  {
   "cell_type": "code",
   "execution_count": 15,
   "id": "636ee4cd",
   "metadata": {},
   "outputs": [
    {
     "name": "stderr",
     "output_type": "stream",
     "text": [
      "22/10/13 05:43:04 WARN CSVHeaderChecker: CSV header does not conform to the schema.\n",
      " Header: , id, age, hypertension, heart_disease, avg_glucose_level, bmi, smoking_status, stroke, id, age_grade\n",
      " Schema: _c0, id1, age, hypertension, heart_disease, avg_glucose_level, bmi, smoking_status, stroke, id9, age_grade\n",
      "Expected: _c0 but found: \n",
      "CSV file: file:///home/ubuntu/database/df_con.csv\n",
      "22/10/13 05:43:04 WARN CSVHeaderChecker: CSV header does not conform to the schema.\n",
      " Header: , id, age, hypertension, heart_disease, avg_glucose_level, bmi, smoking_status, stroke, id, age_grade\n",
      " Schema: _c0, id1, age, hypertension, heart_disease, avg_glucose_level, bmi, smoking_status, stroke, id9, age_grade\n",
      "Expected: _c0 but found: \n",
      "CSV file: file:///home/ubuntu/database/df_con.csv\n"
     ]
    },
    {
     "data": {
      "text/plain": [
       "0.0"
      ]
     },
     "execution_count": 15,
     "metadata": {},
     "output_type": "execute_result"
    }
   ],
   "source": [
    "npre    = results.filter(results['stroke']==1).filter(results['prediction']==1.0).count()\n",
    "nstroke = results.filter(results['stroke']==1).count()\n",
    "npre/nstroke"
   ]
  },
  {
   "cell_type": "code",
   "execution_count": null,
   "id": "50bee6ff",
   "metadata": {},
   "outputs": [],
   "source": []
  }
 ],
 "metadata": {
  "kernelspec": {
   "display_name": "Python 3 (ipykernel)",
   "language": "python",
   "name": "python3"
  },
  "language_info": {
   "codemirror_mode": {
    "name": "ipython",
    "version": 3
   },
   "file_extension": ".py",
   "mimetype": "text/x-python",
   "name": "python",
   "nbconvert_exporter": "python",
   "pygments_lexer": "ipython3",
   "version": "3.10.4"
  }
 },
 "nbformat": 4,
 "nbformat_minor": 5
}
