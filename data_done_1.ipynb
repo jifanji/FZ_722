{
 "cells": [
  {
   "cell_type": "code",
   "execution_count": 1,
   "id": "1c78ee48",
   "metadata": {},
   "outputs": [],
   "source": [
    "#import findspark\n",
    "#findspark.init('/home/ubuntu/spark-3.2.1-bin-hadoop2.7')\n",
    "import pyspark\n",
    "from pyspark.sql import SparkSession\n",
    "spark = SparkSession.builder.appName('stroke').getOrCreate()"
   ]
  },
  {
   "cell_type": "code",
   "execution_count": 2,
   "id": "e07eca38",
   "metadata": {
    "scrolled": true
   },
   "outputs": [],
   "source": [
    "df = spark.read.csv(\"./database/healthcare-dataset-stroke-data.csv\",inferSchema=True,header=True)"
   ]
  },
  {
   "cell_type": "code",
   "execution_count": 3,
   "id": "033991bc",
   "metadata": {
    "scrolled": true
   },
   "outputs": [
    {
     "name": "stdout",
     "output_type": "stream",
     "text": [
      "+-----+------+----+------------+-------------+------------+-------------+--------------+-----------------+----+---------------+------+\n",
      "|   id|gender| age|hypertension|heart_disease|ever_married|    work_type|Residence_type|avg_glucose_level| bmi| smoking_status|stroke|\n",
      "+-----+------+----+------------+-------------+------------+-------------+--------------+-----------------+----+---------------+------+\n",
      "| 9046|  Male|67.0|           0|            1|         Yes|      Private|         Urban|           228.69|36.6|formerly smoked|     1|\n",
      "|51676|Female|61.0|           0|            0|         Yes|Self-employed|         Rural|           202.21| N/A|   never smoked|     1|\n",
      "|31112|  Male|80.0|           0|            1|         Yes|      Private|         Rural|           105.92|32.5|   never smoked|     1|\n",
      "|60182|Female|49.0|           0|            0|         Yes|      Private|         Urban|           171.23|34.4|         smokes|     1|\n",
      "| 1665|Female|79.0|           1|            0|         Yes|Self-employed|         Rural|           174.12|  24|   never smoked|     1|\n",
      "|56669|  Male|81.0|           0|            0|         Yes|      Private|         Urban|           186.21|  29|formerly smoked|     1|\n",
      "|53882|  Male|74.0|           1|            1|         Yes|      Private|         Rural|            70.09|27.4|   never smoked|     1|\n",
      "|10434|Female|69.0|           0|            0|          No|      Private|         Urban|            94.39|22.8|   never smoked|     1|\n",
      "|27419|Female|59.0|           0|            0|         Yes|      Private|         Rural|            76.15| N/A|        Unknown|     1|\n",
      "|60491|Female|78.0|           0|            0|         Yes|      Private|         Urban|            58.57|24.2|        Unknown|     1|\n",
      "|12109|Female|81.0|           1|            0|         Yes|      Private|         Rural|            80.43|29.7|   never smoked|     1|\n",
      "|12095|Female|61.0|           0|            1|         Yes|     Govt_job|         Rural|           120.46|36.8|         smokes|     1|\n",
      "|12175|Female|54.0|           0|            0|         Yes|      Private|         Urban|           104.51|27.3|         smokes|     1|\n",
      "| 8213|  Male|78.0|           0|            1|         Yes|      Private|         Urban|           219.84| N/A|        Unknown|     1|\n",
      "| 5317|Female|79.0|           0|            1|         Yes|      Private|         Urban|           214.09|28.2|   never smoked|     1|\n",
      "|58202|Female|50.0|           1|            0|         Yes|Self-employed|         Rural|           167.41|30.9|   never smoked|     1|\n",
      "|56112|  Male|64.0|           0|            1|         Yes|      Private|         Urban|           191.61|37.5|         smokes|     1|\n",
      "|34120|  Male|75.0|           1|            0|         Yes|      Private|         Urban|           221.29|25.8|         smokes|     1|\n",
      "|27458|Female|60.0|           0|            0|          No|      Private|         Urban|            89.22|37.8|   never smoked|     1|\n",
      "|25226|  Male|57.0|           0|            1|          No|     Govt_job|         Urban|           217.08| N/A|        Unknown|     1|\n",
      "+-----+------+----+------------+-------------+------------+-------------+--------------+-----------------+----+---------------+------+\n",
      "only showing top 20 rows\n",
      "\n"
     ]
    }
   ],
   "source": [
    "df.show()"
   ]
  },
  {
   "cell_type": "code",
   "execution_count": 4,
   "id": "9a54dd4b",
   "metadata": {},
   "outputs": [
    {
     "data": {
      "text/plain": [
       "5110"
      ]
     },
     "execution_count": 4,
     "metadata": {},
     "output_type": "execute_result"
    }
   ],
   "source": [
    "df.count()"
   ]
  },
  {
   "cell_type": "code",
   "execution_count": 5,
   "id": "5a711522",
   "metadata": {},
   "outputs": [
    {
     "name": "stdout",
     "output_type": "stream",
     "text": [
      "root\n",
      " |-- id: integer (nullable = true)\n",
      " |-- gender: string (nullable = true)\n",
      " |-- age: double (nullable = true)\n",
      " |-- hypertension: integer (nullable = true)\n",
      " |-- heart_disease: integer (nullable = true)\n",
      " |-- ever_married: string (nullable = true)\n",
      " |-- work_type: string (nullable = true)\n",
      " |-- Residence_type: string (nullable = true)\n",
      " |-- avg_glucose_level: double (nullable = true)\n",
      " |-- bmi: string (nullable = true)\n",
      " |-- smoking_status: string (nullable = true)\n",
      " |-- stroke: integer (nullable = true)\n",
      "\n"
     ]
    }
   ],
   "source": [
    "df.printSchema()"
   ]
  },
  {
   "cell_type": "code",
   "execution_count": 6,
   "id": "9cf97416",
   "metadata": {
    "scrolled": true
   },
   "outputs": [
    {
     "name": "stdout",
     "output_type": "stream",
     "text": [
      "+-------+------------------+------+------------------+-------------------+------------+---------+\n",
      "|summary|               age|gender|      hypertension|      heart_disease|ever_married|work_type|\n",
      "+-------+------------------+------+------------------+-------------------+------------+---------+\n",
      "|  count|              5110|  5110|              5110|               5110|        5110|     5110|\n",
      "|   mean|43.226614481409015|  null|0.0974559686888454|0.05401174168297456|        null|     null|\n",
      "| stddev| 22.61264672311348|  null| 0.296606674233791|0.22606298750336554|        null|     null|\n",
      "|    min|              0.08|Female|                 0|                  0|          No| Govt_job|\n",
      "|    max|              82.0| Other|                 1|                  1|         Yes| children|\n",
      "+-------+------------------+------+------------------+-------------------+------------+---------+\n",
      "\n"
     ]
    }
   ],
   "source": [
    "df.select('age','gender','hypertension','heart_disease','ever_married','work_type').describe().show()"
   ]
  },
  {
   "cell_type": "code",
   "execution_count": 7,
   "id": "cf2fd9d0",
   "metadata": {
    "scrolled": true
   },
   "outputs": [
    {
     "name": "stdout",
     "output_type": "stream",
     "text": [
      "+-------+--------------+------------------+------------------+--------------+-------------------+\n",
      "|summary|Residence_type| avg_glucose_level|               bmi|smoking_status|             stroke|\n",
      "+-------+--------------+------------------+------------------+--------------+-------------------+\n",
      "|  count|          5110|              5110|              5110|          5110|               5110|\n",
      "|   mean|          null|106.14767710371804|28.893236911794673|          null| 0.0487279843444227|\n",
      "| stddev|          null| 45.28356015058193|  7.85406672968016|          null|0.21531985698023753|\n",
      "|    min|         Rural|             55.12|              10.3|       Unknown|                  0|\n",
      "|    max|         Urban|            271.74|               N/A|        smokes|                  1|\n",
      "+-------+--------------+------------------+------------------+--------------+-------------------+\n",
      "\n"
     ]
    }
   ],
   "source": [
    "df.select('Residence_type','avg_glucose_level','bmi','smoking_status','stroke').describe().show()"
   ]
  },
  {
   "cell_type": "code",
   "execution_count": 8,
   "id": "b9e846f4",
   "metadata": {},
   "outputs": [
    {
     "data": {
      "image/png": "[encoded data removed]",
      "text/plain": [
       "<Figure size 432x288 with 1 Axes>"
      ]
     },
     "metadata": {
      "needs_background": "light"
     },
     "output_type": "display_data"
    }
   ],
   "source": [
    "import numpy as np\n",
    "import matplotlib.pyplot as plt\n",
    "%matplotlib inline\n",
    "ageArr = np.array(df.select('age').collect())\n",
    "plt.hist(ageArr,bins=20)\n",
    "plt.show()"
   ]
  },
  {
   "cell_type": "code",
   "execution_count": 9,
   "id": "d3ed69bc",
   "metadata": {},
   "outputs": [
    {
     "data": {
      "image/png": "[encoded data removed]",
      "text/plain": [
       "<Figure size 432x288 with 1 Axes>"
      ]
     },
     "metadata": {
      "needs_background": "light"
     },
     "output_type": "display_data"
    }
   ],
   "source": [
    "glucoseArr = np.array(df.select('avg_glucose_level').collect())\n",
    "plt.hist(glucoseArr,bins=20)\n",
    "plt.show()"
   ]
  },
  {
   "cell_type": "code",
   "execution_count": 10,
   "id": "7b9f2478",
   "metadata": {},
   "outputs": [
    {
     "data": {
      "image/png": "[encoded data removed]",
      "text/plain": [
       "<Figure size 432x288 with 1 Axes>"
      ]
     },
     "metadata": {
      "needs_background": "light"
     },
     "output_type": "display_data"
    }
   ],
   "source": [
    "from pyspark.sql.functions import col\n",
    "df1 = df.withColumn(\"bmi\",df.bmi.cast('double')).fillna(28.8)\n",
    "bmiArr = np.array(df1.select('bmi').collect())\n",
    "#plt.hist(bmiArr,bins=50)\n",
    "plt.boxplot(bmiArr)\n",
    "plt.show()"
   ]
  },
  {
   "cell_type": "code",
   "execution_count": 11,
   "id": "93a3bcc3",
   "metadata": {},
   "outputs": [
    {
     "name": "stdout",
     "output_type": "stream",
     "text": [
      "+-------+------------------+\n",
      "|summary|               bmi|\n",
      "+-------+------------------+\n",
      "|  count|              5110|\n",
      "|   mean|28.889569471624284|\n",
      "| stddev| 7.698039167059631|\n",
      "|    min|              10.3|\n",
      "|    max|              97.6|\n",
      "+-------+------------------+\n",
      "\n"
     ]
    }
   ],
   "source": [
    "df1.select('bmi').describe().show()"
   ]
  },
  {
   "cell_type": "code",
   "execution_count": 12,
   "id": "04154b6c",
   "metadata": {},
   "outputs": [
    {
     "name": "stdout",
     "output_type": "stream",
     "text": [
      "+------+-----+\n",
      "|gender|count|\n",
      "+------+-----+\n",
      "|Female| 2994|\n",
      "| Other|    1|\n",
      "|  Male| 2115|\n",
      "+------+-----+\n",
      "\n",
      "+------------+-----+\n",
      "|hypertension|count|\n",
      "+------------+-----+\n",
      "|           1|  498|\n",
      "|           0| 4612|\n",
      "+------------+-----+\n",
      "\n"
     ]
    }
   ],
   "source": [
    "df1.groupby('gender').count().show()\n",
    "df1.groupby('hypertension').count().show()"
   ]
  },
  {
   "cell_type": "code",
   "execution_count": 13,
   "id": "f9dd7cfd",
   "metadata": {},
   "outputs": [
    {
     "name": "stdout",
     "output_type": "stream",
     "text": [
      "+-------------+-----+\n",
      "|heart_disease|count|\n",
      "+-------------+-----+\n",
      "|            1|  276|\n",
      "|            0| 4834|\n",
      "+-------------+-----+\n",
      "\n",
      "+------------+-----+\n",
      "|ever_married|count|\n",
      "+------------+-----+\n",
      "|          No| 1757|\n",
      "|         Yes| 3353|\n",
      "+------------+-----+\n",
      "\n",
      "+-------------+-----+\n",
      "|    work_type|count|\n",
      "+-------------+-----+\n",
      "| Never_worked|   22|\n",
      "|Self-employed|  819|\n",
      "|      Private| 2925|\n",
      "|     children|  687|\n",
      "|     Govt_job|  657|\n",
      "+-------------+-----+\n",
      "\n",
      "+--------------+-----+\n",
      "|Residence_type|count|\n",
      "+--------------+-----+\n",
      "|         Urban| 2596|\n",
      "|         Rural| 2514|\n",
      "+--------------+-----+\n",
      "\n",
      "+---------------+-----+\n",
      "| smoking_status|count|\n",
      "+---------------+-----+\n",
      "|         smokes|  789|\n",
      "|        Unknown| 1544|\n",
      "|   never smoked| 1892|\n",
      "|formerly smoked|  885|\n",
      "+---------------+-----+\n",
      "\n",
      "+------+-----+\n",
      "|stroke|count|\n",
      "+------+-----+\n",
      "|     1|  249|\n",
      "|     0| 4861|\n",
      "+------+-----+\n",
      "\n"
     ]
    }
   ],
   "source": [
    "df1.groupby('heart_disease').count().show()\n",
    "df1.groupby('ever_married').count().show()\n",
    "df1.groupby('work_type').count().show()\n",
    "df1.groupby('Residence_type').count().show()\n",
    "df1.groupby('smoking_status').count().show()\n",
    "df1.groupby('stroke').count().show()"
   ]
  },
  {
   "cell_type": "code",
   "execution_count": 14,
   "id": "b6295394",
   "metadata": {},
   "outputs": [
    {
     "data": {
      "text/plain": [
       "0"
      ]
     },
     "execution_count": 14,
     "metadata": {},
     "output_type": "execute_result"
    }
   ],
   "source": [
    "from pyspark.sql.functions import isnull \n",
    "df_t = df.filter(isnull(\"gender\"))\n",
    "df_t.count()"
   ]
  },
  {
   "cell_type": "code",
   "execution_count": 15,
   "id": "7e54989c",
   "metadata": {},
   "outputs": [
    {
     "data": {
      "text/plain": [
       "249"
      ]
     },
     "execution_count": 15,
     "metadata": {},
     "output_type": "execute_result"
    }
   ],
   "source": [
    "df.filter(df['stroke']== 1).count() #Filter data with stroke value of 1 "
   ]
  },
  {
   "cell_type": "code",
   "execution_count": 16,
   "id": "96784dfd",
   "metadata": {},
   "outputs": [
    {
     "data": {
      "text/plain": [
       "40"
      ]
     },
     "execution_count": 16,
     "metadata": {},
     "output_type": "execute_result"
    }
   ],
   "source": [
    "df.filter(df['bmi']=='N/A').filter(df['stroke']== 1).count() #Filter data with stroke value of 1 and bmi value of"
   ]
  },
  {
   "cell_type": "code",
   "execution_count": 17,
   "id": "d9f9f22e",
   "metadata": {},
   "outputs": [
    {
     "name": "stdout",
     "output_type": "stream",
     "text": [
      "+-------+------------------+\n",
      "|summary|               bmi|\n",
      "+-------+------------------+\n",
      "|  count|              5024|\n",
      "|   mean|28.429219745222994|\n",
      "| stddev| 6.829375112841112|\n",
      "|    min|              10.3|\n",
      "|    max|              49.3|\n",
      "+-------+------------------+\n",
      "\n"
     ]
    }
   ],
   "source": [
    "df2 = df1.filter(df1['bmi'] < 49.4)\n",
    "df2.count()\n",
    "df2.select('bmi').describe().show()"
   ]
  },
  {
   "cell_type": "code",
   "execution_count": 18,
   "id": "1b325d0b",
   "metadata": {
    "scrolled": true
   },
   "outputs": [
    {
     "data": {
      "image/png": "[encoded data removed]",
      "text/plain": [
       "<Figure size 432x288 with 1 Axes>"
      ]
     },
     "metadata": {
      "needs_background": "light"
     },
     "output_type": "display_data"
    }
   ],
   "source": [
    "bmiArr2 = np.array(df2.select('bmi').collect())\n",
    "plt.hist(bmiArr2,bins=30)\n",
    "plt.show()"
   ]
  },
  {
   "cell_type": "code",
   "execution_count": 19,
   "id": "fed3122c",
   "metadata": {},
   "outputs": [
    {
     "data": {
      "text/plain": [
       "5023"
      ]
     },
     "execution_count": 19,
     "metadata": {},
     "output_type": "execute_result"
    }
   ],
   "source": [
    "df3 = df2.filter(df1['gender'] != 'Other')\n",
    "df3.count()"
   ]
  },
  {
   "cell_type": "code",
   "execution_count": 20,
   "id": "f1f14947",
   "metadata": {},
   "outputs": [
    {
     "data": {
      "image/png": "[encoded data removed]",
      "text/plain": [
       "<Figure size 432x288 with 1 Axes>"
      ]
     },
     "metadata": {
      "needs_background": "light"
     },
     "output_type": "display_data"
    }
   ],
   "source": [
    "plt.hist(np.array(df3.select('stroke').collect()))\n",
    "plt.show()"
   ]
  },
  {
   "cell_type": "code",
   "execution_count": 21,
   "id": "ab8688fd",
   "metadata": {},
   "outputs": [],
   "source": [
    "df_s = spark.read.csv(\"./database/dataset-stroke-2w.csv\",inferSchema=True,header=True)"
   ]
  },
  {
   "cell_type": "code",
   "execution_count": 22,
   "id": "e0d963eb",
   "metadata": {},
   "outputs": [
    {
     "data": {
      "text/plain": [
       "43400"
      ]
     },
     "execution_count": 22,
     "metadata": {},
     "output_type": "execute_result"
    }
   ],
   "source": [
    "df_s.count()"
   ]
  },
  {
   "cell_type": "code",
   "execution_count": 23,
   "id": "d7da83c4",
   "metadata": {
    "scrolled": true
   },
   "outputs": [
    {
     "name": "stdout",
     "output_type": "stream",
     "text": [
      "+-----+------+----+------------+-------------+------------+-------------+--------------+-----------------+----+---------------+------+\n",
      "|   id|gender| age|hypertension|heart_disease|ever_married|    work_type|Residence_type|avg_glucose_level| bmi| smoking_status|stroke|\n",
      "+-----+------+----+------------+-------------+------------+-------------+--------------+-----------------+----+---------------+------+\n",
      "|30669|  Male| 3.0|           0|            0|          No|     children|         Rural|            95.12|18.0|           null|     0|\n",
      "|30468|  Male|58.0|           1|            0|         Yes|      Private|         Urban|            87.96|39.2|   never smoked|     0|\n",
      "|16523|Female| 8.0|           0|            0|          No|      Private|         Urban|           110.89|17.6|           null|     0|\n",
      "|56543|Female|70.0|           0|            0|         Yes|      Private|         Rural|            69.04|35.9|formerly smoked|     0|\n",
      "|46136|  Male|14.0|           0|            0|          No| Never_worked|         Rural|           161.28|19.1|           null|     0|\n",
      "|32257|Female|47.0|           0|            0|         Yes|      Private|         Urban|           210.95|50.1|           null|     0|\n",
      "|52800|Female|52.0|           0|            0|         Yes|      Private|         Urban|            77.59|17.7|formerly smoked|     0|\n",
      "|41413|Female|75.0|           0|            1|         Yes|Self-employed|         Rural|           243.53|27.0|   never smoked|     0|\n",
      "|15266|Female|32.0|           0|            0|         Yes|      Private|         Rural|            77.67|32.3|         smokes|     0|\n",
      "|28674|Female|74.0|           1|            0|         Yes|Self-employed|         Urban|           205.84|54.6|   never smoked|     0|\n",
      "|10460|Female|79.0|           0|            0|         Yes|     Govt_job|         Urban|            77.08|35.0|           null|     0|\n",
      "|64908|  Male|79.0|           0|            1|         Yes|      Private|         Urban|            57.08|22.0|formerly smoked|     0|\n",
      "|63884|Female|37.0|           0|            0|         Yes|      Private|         Rural|           162.96|39.4|   never smoked|     0|\n",
      "|37893|Female|37.0|           0|            0|         Yes|      Private|         Rural|             73.5|26.1|formerly smoked|     0|\n",
      "|67855|Female|40.0|           0|            0|         Yes|      Private|         Rural|            95.04|42.4|   never smoked|     0|\n",
      "|25774|  Male|35.0|           0|            0|          No|      Private|         Rural|            85.37|33.0|   never smoked|     0|\n",
      "|19584|Female|20.0|           0|            0|          No|      Private|         Urban|            84.62|19.7|         smokes|     0|\n",
      "|24447|Female|42.0|           0|            0|         Yes|      Private|         Rural|            82.67|22.5|   never smoked|     0|\n",
      "|49589|Female|44.0|           0|            0|         Yes|     Govt_job|         Urban|            57.33|24.6|         smokes|     0|\n",
      "|17986|Female|79.0|           0|            1|         Yes|Self-employed|         Urban|            67.84|25.2|         smokes|     0|\n",
      "+-----+------+----+------------+-------------+------------+-------------+--------------+-----------------+----+---------------+------+\n",
      "only showing top 20 rows\n",
      "\n"
     ]
    }
   ],
   "source": [
    "df_s.show()"
   ]
  },
  {
   "cell_type": "code",
   "execution_count": 24,
   "id": "8ece3c67",
   "metadata": {},
   "outputs": [
    {
     "name": "stdout",
     "output_type": "stream",
     "text": [
      "+-----+------+----+------------+-------------+------------+-------------+--------------+-----------------+----+---------------+------+\n",
      "|   id|gender| age|hypertension|heart_disease|ever_married|    work_type|Residence_type|avg_glucose_level| bmi| smoking_status|stroke|\n",
      "+-----+------+----+------------+-------------+------------+-------------+--------------+-----------------+----+---------------+------+\n",
      "|30669|  Male| 3.0|           0|            0|          No|     children|         Rural|            95.12|18.0|        Unknown|     0|\n",
      "|30468|  Male|58.0|           1|            0|         Yes|      Private|         Urban|            87.96|39.2|   never smoked|     0|\n",
      "|16523|Female| 8.0|           0|            0|          No|      Private|         Urban|           110.89|17.6|        Unknown|     0|\n",
      "|56543|Female|70.0|           0|            0|         Yes|      Private|         Rural|            69.04|35.9|formerly smoked|     0|\n",
      "|46136|  Male|14.0|           0|            0|          No| Never_worked|         Rural|           161.28|19.1|        Unknown|     0|\n",
      "|32257|Female|47.0|           0|            0|         Yes|      Private|         Urban|           210.95|50.1|        Unknown|     0|\n",
      "|52800|Female|52.0|           0|            0|         Yes|      Private|         Urban|            77.59|17.7|formerly smoked|     0|\n",
      "|41413|Female|75.0|           0|            1|         Yes|Self-employed|         Rural|           243.53|27.0|   never smoked|     0|\n",
      "|15266|Female|32.0|           0|            0|         Yes|      Private|         Rural|            77.67|32.3|         smokes|     0|\n",
      "|28674|Female|74.0|           1|            0|         Yes|Self-employed|         Urban|           205.84|54.6|   never smoked|     0|\n",
      "|10460|Female|79.0|           0|            0|         Yes|     Govt_job|         Urban|            77.08|35.0|        Unknown|     0|\n",
      "|64908|  Male|79.0|           0|            1|         Yes|      Private|         Urban|            57.08|22.0|formerly smoked|     0|\n",
      "|63884|Female|37.0|           0|            0|         Yes|      Private|         Rural|           162.96|39.4|   never smoked|     0|\n",
      "|37893|Female|37.0|           0|            0|         Yes|      Private|         Rural|             73.5|26.1|formerly smoked|     0|\n",
      "|67855|Female|40.0|           0|            0|         Yes|      Private|         Rural|            95.04|42.4|   never smoked|     0|\n",
      "|25774|  Male|35.0|           0|            0|          No|      Private|         Rural|            85.37|33.0|   never smoked|     0|\n",
      "|19584|Female|20.0|           0|            0|          No|      Private|         Urban|            84.62|19.7|         smokes|     0|\n",
      "|24447|Female|42.0|           0|            0|         Yes|      Private|         Rural|            82.67|22.5|   never smoked|     0|\n",
      "|49589|Female|44.0|           0|            0|         Yes|     Govt_job|         Urban|            57.33|24.6|         smokes|     0|\n",
      "|17986|Female|79.0|           0|            1|         Yes|Self-employed|         Urban|            67.84|25.2|         smokes|     0|\n",
      "+-----+------+----+------------+-------------+------------+-------------+--------------+-----------------+----+---------------+------+\n",
      "only showing top 20 rows\n",
      "\n"
     ]
    }
   ],
   "source": [
    "df_s1 = df_s.fillna('Unknown')\n",
    "df_s1.show()"
   ]
  },
  {
   "cell_type": "code",
   "execution_count": 25,
   "id": "e20b279a",
   "metadata": {
    "scrolled": true
   },
   "outputs": [
    {
     "name": "stdout",
     "output_type": "stream",
     "text": [
      "+-------+------------------+\n",
      "|summary|               bmi|\n",
      "+-------+------------------+\n",
      "|  count|             41938|\n",
      "|   mean|28.605038390004545|\n",
      "| stddev| 7.770020497238766|\n",
      "|    min|              10.1|\n",
      "|    max|              97.6|\n",
      "+-------+------------------+\n",
      "\n"
     ]
    }
   ],
   "source": [
    "df_s1.select('bmi').describe().show()"
   ]
  },
  {
   "cell_type": "code",
   "execution_count": 26,
   "id": "ae43c375",
   "metadata": {},
   "outputs": [
    {
     "name": "stdout",
     "output_type": "stream",
     "text": [
      "+-----+------+----+------------+-------------+------------+-------------+--------------+-----------------+----+---------------+------+\n",
      "|   id|gender| age|hypertension|heart_disease|ever_married|    work_type|Residence_type|avg_glucose_level| bmi| smoking_status|stroke|\n",
      "+-----+------+----+------------+-------------+------------+-------------+--------------+-----------------+----+---------------+------+\n",
      "|30669|  Male| 3.0|           0|            0|          No|     children|         Rural|            95.12|18.0|        Unknown|     0|\n",
      "|30468|  Male|58.0|           1|            0|         Yes|      Private|         Urban|            87.96|39.2|   never smoked|     0|\n",
      "|16523|Female| 8.0|           0|            0|          No|      Private|         Urban|           110.89|17.6|        Unknown|     0|\n",
      "|56543|Female|70.0|           0|            0|         Yes|      Private|         Rural|            69.04|35.9|formerly smoked|     0|\n",
      "|46136|  Male|14.0|           0|            0|          No| Never_worked|         Rural|           161.28|19.1|        Unknown|     0|\n",
      "|32257|Female|47.0|           0|            0|         Yes|      Private|         Urban|           210.95|50.1|        Unknown|     0|\n",
      "|52800|Female|52.0|           0|            0|         Yes|      Private|         Urban|            77.59|17.7|formerly smoked|     0|\n",
      "|41413|Female|75.0|           0|            1|         Yes|Self-employed|         Rural|           243.53|27.0|   never smoked|     0|\n",
      "|15266|Female|32.0|           0|            0|         Yes|      Private|         Rural|            77.67|32.3|         smokes|     0|\n",
      "|28674|Female|74.0|           1|            0|         Yes|Self-employed|         Urban|           205.84|54.6|   never smoked|     0|\n",
      "|10460|Female|79.0|           0|            0|         Yes|     Govt_job|         Urban|            77.08|35.0|        Unknown|     0|\n",
      "|64908|  Male|79.0|           0|            1|         Yes|      Private|         Urban|            57.08|22.0|formerly smoked|     0|\n",
      "|63884|Female|37.0|           0|            0|         Yes|      Private|         Rural|           162.96|39.4|   never smoked|     0|\n",
      "|37893|Female|37.0|           0|            0|         Yes|      Private|         Rural|             73.5|26.1|formerly smoked|     0|\n",
      "|67855|Female|40.0|           0|            0|         Yes|      Private|         Rural|            95.04|42.4|   never smoked|     0|\n",
      "|25774|  Male|35.0|           0|            0|          No|      Private|         Rural|            85.37|33.0|   never smoked|     0|\n",
      "|19584|Female|20.0|           0|            0|          No|      Private|         Urban|            84.62|19.7|         smokes|     0|\n",
      "|24447|Female|42.0|           0|            0|         Yes|      Private|         Rural|            82.67|22.5|   never smoked|     0|\n",
      "|49589|Female|44.0|           0|            0|         Yes|     Govt_job|         Urban|            57.33|24.6|         smokes|     0|\n",
      "|17986|Female|79.0|           0|            1|         Yes|Self-employed|         Urban|            67.84|25.2|         smokes|     0|\n",
      "+-----+------+----+------------+-------------+------------+-------------+--------------+-----------------+----+---------------+------+\n",
      "only showing top 20 rows\n",
      "\n"
     ]
    }
   ],
   "source": [
    "df_s2 = df_s1.fillna(28.6)\n",
    "df_s2.show()"
   ]
  },
  {
   "cell_type": "code",
   "execution_count": 27,
   "id": "3033cc11",
   "metadata": {},
   "outputs": [
    {
     "data": {
      "text/plain": [
       "0"
      ]
     },
     "execution_count": 27,
     "metadata": {},
     "output_type": "execute_result"
    }
   ],
   "source": [
    " df_s2.filter(isnull(\"bmi\")).count()"
   ]
  },
  {
   "cell_type": "code",
   "execution_count": 28,
   "id": "6d997850",
   "metadata": {},
   "outputs": [
    {
     "data": {
      "text/plain": [
       "42715"
      ]
     },
     "execution_count": 28,
     "metadata": {},
     "output_type": "execute_result"
    }
   ],
   "source": [
    "df_s3 = df_s2.filter(df_s2['bmi']<49.1)\n",
    "df_s3.count()"
   ]
  },
  {
   "cell_type": "code",
   "execution_count": 29,
   "id": "9758f44b",
   "metadata": {},
   "outputs": [
    {
     "data": {
      "text/plain": [
       "42704"
      ]
     },
     "execution_count": 29,
     "metadata": {},
     "output_type": "execute_result"
    }
   ],
   "source": [
    "df_s4 = df_s3.filter(df_s3['gender'] != 'Other')\n",
    "df_s4.count()"
   ]
  },
  {
   "cell_type": "code",
   "execution_count": 30,
   "id": "9e634409",
   "metadata": {
    "scrolled": true
   },
   "outputs": [
    {
     "name": "stdout",
     "output_type": "stream",
     "text": [
      "+-------+-----------------+------+------------------+-------------------+------------+---------+\n",
      "|summary|              age|gender|      hypertension|      heart_disease|ever_married|work_type|\n",
      "+-------+-----------------+------+------------------+-------------------+------------+---------+\n",
      "|  count|            42704| 42704|             42704|              42704|       42704|    42704|\n",
      "|   mean|42.17437710753077|  null|0.0920756837766954|0.04760678156612964|        null|     null|\n",
      "| stddev|22.62783071047469|  null|0.2891361442106498|0.21293528987922475|        null|     null|\n",
      "|    min|             0.08|Female|                 0|                  0|          No| Govt_job|\n",
      "|    max|             82.0|  Male|                 1|                  1|         Yes| children|\n",
      "+-------+-----------------+------+------------------+-------------------+------------+---------+\n",
      "\n"
     ]
    }
   ],
   "source": [
    "df_s4.select('age','gender','hypertension','heart_disease','ever_married','work_type').describe().show()"
   ]
  },
  {
   "cell_type": "code",
   "execution_count": 31,
   "id": "dbd86f75",
   "metadata": {},
   "outputs": [
    {
     "name": "stdout",
     "output_type": "stream",
     "text": [
      "+-------+--------------+------------------+------------------+--------------+--------------------+\n",
      "|summary|Residence_type| avg_glucose_level|               bmi|smoking_status|              stroke|\n",
      "+-------+--------------+------------------+------------------+--------------+--------------------+\n",
      "|  count|         42704|             42704|             42704|         42704|               42704|\n",
      "|   mean|          null|104.14932114087571|28.186661671038053|          null|0.018241850880479582|\n",
      "| stddev|          null| 42.73396878503974|6.8992121959745045|          null| 0.13382639927905507|\n",
      "|    min|         Rural|              55.0|              10.1|       Unknown|                   0|\n",
      "|    max|         Urban|            291.05|              49.0|        smokes|                   1|\n",
      "+-------+--------------+------------------+------------------+--------------+--------------------+\n",
      "\n"
     ]
    }
   ],
   "source": [
    "df_s4.select('Residence_type','avg_glucose_level','bmi','smoking_status','stroke').describe().show()"
   ]
  },
  {
   "cell_type": "code",
   "execution_count": 32,
   "id": "cc3754f5",
   "metadata": {},
   "outputs": [
    {
     "data": {
      "text/plain": [
       "47727"
      ]
     },
     "execution_count": 32,
     "metadata": {},
     "output_type": "execute_result"
    }
   ],
   "source": [
    "df_all = df3.unionByName(df_s4)\n",
    "\n",
    "df_all.count()"
   ]
  },
  {
   "cell_type": "code",
   "execution_count": 33,
   "id": "71ea81d3",
   "metadata": {},
   "outputs": [
    {
     "data": {
      "text/plain": [
       "42909"
      ]
     },
     "execution_count": 33,
     "metadata": {},
     "output_type": "execute_result"
    }
   ],
   "source": [
    "df_all = df_all.dropDuplicates()\n",
    "df_all.count()"
   ]
  },
  {
   "cell_type": "code",
   "execution_count": 34,
   "id": "2c244df5",
   "metadata": {},
   "outputs": [
    {
     "name": "stdout",
     "output_type": "stream",
     "text": [
      "+-----+------+----+------------+-------------+------------+-------------+--------------+-----------------+----+---------------+------+\n",
      "|   id|gender| age|hypertension|heart_disease|ever_married|    work_type|Residence_type|avg_glucose_level| bmi| smoking_status|stroke|\n",
      "+-----+------+----+------------+-------------+------------+-------------+--------------+-----------------+----+---------------+------+\n",
      "|71673|Female|79.0|           0|            0|         Yes|      Private|         Urban|           110.85|24.1|formerly smoked|     1|\n",
      "|63606|  Male|29.0|           0|            0|         Yes|     Govt_job|         Urban|            60.34|29.6|formerly smoked|     0|\n",
      "|54866|Female| 9.0|           0|            0|          No|     children|         Rural|            57.27|28.0|        Unknown|     0|\n",
      "|25315|  Male|31.0|           0|            0|         Yes|      Private|         Urban|           222.21|41.1|         smokes|     0|\n",
      "|13948|Female|19.0|           0|            0|          No| Never_worked|         Urban|            86.96|25.8|   never smoked|     0|\n",
      "|44105|Female|69.0|           1|            0|         Yes|Self-employed|         Urban|            61.81|37.1|        Unknown|     0|\n",
      "|59894|Female|58.0|           0|            0|         Yes|     Govt_job|         Rural|           109.56|23.1|   never smoked|     0|\n",
      "|20347|Female|18.0|           0|            0|          No|      Private|         Rural|             98.1|21.8|   never smoked|     0|\n",
      "|52306|  Male|57.0|           0|            0|         Yes|Self-employed|         Urban|            67.97|27.9|   never smoked|     0|\n",
      "|11726|Female|49.0|           0|            0|         Yes|     Govt_job|         Rural|            83.84|19.3|formerly smoked|     0|\n",
      "|48722|Female|54.0|           0|            0|         Yes|      Private|         Urban|            75.09|38.9|formerly smoked|     0|\n",
      "|59370|Female|60.0|           0|            0|         Yes|      Private|         Urban|            65.78|27.5|        Unknown|     0|\n",
      "|43806|  Male|44.0|           0|            0|         Yes|      Private|         Urban|           142.31|29.1|         smokes|     0|\n",
      "|30806|  Male|37.0|           0|            0|         Yes|Self-employed|         Urban|            87.16|30.4|formerly smoked|     0|\n",
      "|57679|  Male|1.08|           0|            0|          No|     children|         Urban|           167.66|18.7|        Unknown|     0|\n",
      "|68524|Female|38.0|           0|            0|         Yes|      Private|         Urban|           100.02|28.0|   never smoked|     0|\n",
      "|25095|  Male|44.0|           0|            0|         Yes|     Govt_job|         Urban|            94.76|26.0|formerly smoked|     0|\n",
      "|64597|Female|33.0|           0|            0|         Yes|      Private|         Rural|             73.2|28.9|        Unknown|     0|\n",
      "| 1772|Female|64.0|           0|            0|         Yes|     Govt_job|         Urban|            77.68|31.4|   never smoked|     0|\n",
      "| 6019|Female|57.0|           0|            0|         Yes|      Private|         Urban|            82.62|28.4|   never smoked|     0|\n",
      "+-----+------+----+------------+-------------+------------+-------------+--------------+-----------------+----+---------------+------+\n",
      "only showing top 20 rows\n",
      "\n"
     ]
    }
   ],
   "source": [
    "df_all.show()"
   ]
  },
  {
   "cell_type": "code",
   "execution_count": 35,
   "id": "bdcbc4ee",
   "metadata": {},
   "outputs": [
    {
     "name": "stdout",
     "output_type": "stream",
     "text": [
      "root\n",
      " |-- id: integer (nullable = true)\n",
      " |-- gender: string (nullable = true)\n",
      " |-- age: double (nullable = false)\n",
      " |-- hypertension: integer (nullable = true)\n",
      " |-- heart_disease: integer (nullable = true)\n",
      " |-- ever_married: string (nullable = true)\n",
      " |-- work_type: string (nullable = true)\n",
      " |-- Residence_type: string (nullable = true)\n",
      " |-- avg_glucose_level: double (nullable = false)\n",
      " |-- bmi: double (nullable = false)\n",
      " |-- smoking_status: string (nullable = true)\n",
      " |-- stroke: integer (nullable = true)\n",
      "\n"
     ]
    }
   ],
   "source": [
    "df_all.printSchema()"
   ]
  },
  {
   "cell_type": "code",
   "execution_count": 36,
   "id": "0edcc4fe",
   "metadata": {},
   "outputs": [],
   "source": [
    "import pyspark.sql.functions as F\n",
    "df_all_1 = df_all.withColumn('gender',F.when(df_all['gender'] == 'Male',0).otherwise(1))\n",
    "df_all_1 = df_all_1.withColumn('ever_married',F.when(df_all['ever_married'] == 'Yes',0).otherwise(1))\n",
    "df_all_1 = df_all_1.withColumn('work_type',F.when(df_all['work_type'] == 'Private',0)\n",
    "                               .when(df_all['work_type'] == 'Self-employed',1)\n",
    "                               .when(df_all['work_type'] == 'children',2)\n",
    "                               .when(df_all['work_type'] == 'Govt_job',3)\n",
    "                               .otherwise(4))\n",
    "df_all_1 = df_all_1.withColumn('Residence_type',F.when(df_all['Residence_type'] == 'Urban',0).otherwise(1))\n",
    "df_all_1 = df_all_1.withColumn('smoking_status',F.when(df_all['smoking_status'] == 'never smoked',0)\n",
    "                               .when(df_all['smoking_status'] == 'Unknown',1)\n",
    "                               .when(df_all['smoking_status'] == 'formerly smoked',2)\n",
    "                               .otherwise(3))"
   ]
  },
  {
   "cell_type": "code",
   "execution_count": 37,
   "id": "a3b44c69",
   "metadata": {},
   "outputs": [
    {
     "name": "stdout",
     "output_type": "stream",
     "text": [
      "+-----+------+----+------------+-------------+------------+---------+--------------+-----------------+----+--------------+------+\n",
      "|   id|gender| age|hypertension|heart_disease|ever_married|work_type|Residence_type|avg_glucose_level| bmi|smoking_status|stroke|\n",
      "+-----+------+----+------------+-------------+------------+---------+--------------+-----------------+----+--------------+------+\n",
      "|71673|     1|79.0|           0|            0|           0|        0|             0|           110.85|24.1|             2|     1|\n",
      "|63606|     0|29.0|           0|            0|           0|        3|             0|            60.34|29.6|             2|     0|\n",
      "|54866|     1| 9.0|           0|            0|           1|        2|             1|            57.27|28.0|             1|     0|\n",
      "|25315|     0|31.0|           0|            0|           0|        0|             0|           222.21|41.1|             3|     0|\n",
      "|13948|     1|19.0|           0|            0|           1|        4|             0|            86.96|25.8|             0|     0|\n",
      "|44105|     1|69.0|           1|            0|           0|        1|             0|            61.81|37.1|             1|     0|\n",
      "|59894|     1|58.0|           0|            0|           0|        3|             1|           109.56|23.1|             0|     0|\n",
      "|20347|     1|18.0|           0|            0|           1|        0|             1|             98.1|21.8|             0|     0|\n",
      "|52306|     0|57.0|           0|            0|           0|        1|             0|            67.97|27.9|             0|     0|\n",
      "|11726|     1|49.0|           0|            0|           0|        3|             1|            83.84|19.3|             2|     0|\n",
      "|48722|     1|54.0|           0|            0|           0|        0|             0|            75.09|38.9|             2|     0|\n",
      "|59370|     1|60.0|           0|            0|           0|        0|             0|            65.78|27.5|             1|     0|\n",
      "|43806|     0|44.0|           0|            0|           0|        0|             0|           142.31|29.1|             3|     0|\n",
      "|30806|     0|37.0|           0|            0|           0|        1|             0|            87.16|30.4|             2|     0|\n",
      "|57679|     0|1.08|           0|            0|           1|        2|             0|           167.66|18.7|             1|     0|\n",
      "|68524|     1|38.0|           0|            0|           0|        0|             0|           100.02|28.0|             0|     0|\n",
      "|25095|     0|44.0|           0|            0|           0|        3|             0|            94.76|26.0|             2|     0|\n",
      "|64597|     1|33.0|           0|            0|           0|        0|             1|             73.2|28.9|             1|     0|\n",
      "| 1772|     1|64.0|           0|            0|           0|        3|             0|            77.68|31.4|             0|     0|\n",
      "| 6019|     1|57.0|           0|            0|           0|        0|             0|            82.62|28.4|             0|     0|\n",
      "+-----+------+----+------------+-------------+------------+---------+--------------+-----------------+----+--------------+------+\n",
      "only showing top 20 rows\n",
      "\n"
     ]
    }
   ],
   "source": [
    "df_all_1.show()"
   ]
  },
  {
   "cell_type": "code",
   "execution_count": 38,
   "id": "53873f28",
   "metadata": {},
   "outputs": [
    {
     "name": "stdout",
     "output_type": "stream",
     "text": [
      "root\n",
      " |-- id: integer (nullable = true)\n",
      " |-- gender: integer (nullable = false)\n",
      " |-- age: double (nullable = false)\n",
      " |-- hypertension: integer (nullable = true)\n",
      " |-- heart_disease: integer (nullable = true)\n",
      " |-- ever_married: integer (nullable = false)\n",
      " |-- work_type: integer (nullable = false)\n",
      " |-- Residence_type: integer (nullable = false)\n",
      " |-- avg_glucose_level: double (nullable = false)\n",
      " |-- bmi: double (nullable = false)\n",
      " |-- smoking_status: integer (nullable = false)\n",
      " |-- stroke: integer (nullable = true)\n",
      "\n"
     ]
    }
   ],
   "source": [
    "df_all_1.printSchema()"
   ]
  },
  {
   "cell_type": "code",
   "execution_count": 39,
   "id": "4a72218e",
   "metadata": {},
   "outputs": [
    {
     "name": "stdout",
     "output_type": "stream",
     "text": [
      "+-----+------+----+------------+-------------+------------+---------+--------------+-----------------+---+--------------+------+\n",
      "|   id|gender| age|hypertension|heart_disease|ever_married|work_type|Residence_type|avg_glucose_level|bmi|smoking_status|stroke|\n",
      "+-----+------+----+------------+-------------+------------+---------+--------------+-----------------+---+--------------+------+\n",
      "|71673|     1|79.0|           0|            0|           0|        0|             0|           110.85|  1|             2|     1|\n",
      "|63606|     0|29.0|           0|            0|           0|        3|             0|            60.34|  2|             2|     0|\n",
      "|54866|     1| 9.0|           0|            0|           1|        2|             1|            57.27|  2|             1|     0|\n",
      "|25315|     0|31.0|           0|            0|           0|        0|             0|           222.21|  3|             3|     0|\n",
      "|13948|     1|19.0|           0|            0|           1|        4|             0|            86.96|  2|             0|     0|\n",
      "|44105|     1|69.0|           1|            0|           0|        1|             0|            61.81|  3|             1|     0|\n",
      "|59894|     1|58.0|           0|            0|           0|        3|             1|           109.56|  1|             0|     0|\n",
      "|20347|     1|18.0|           0|            0|           1|        0|             1|             98.1|  1|             0|     0|\n",
      "|52306|     0|57.0|           0|            0|           0|        1|             0|            67.97|  2|             0|     0|\n",
      "|11726|     1|49.0|           0|            0|           0|        3|             1|            83.84|  1|             2|     0|\n",
      "|48722|     1|54.0|           0|            0|           0|        0|             0|            75.09|  3|             2|     0|\n",
      "|59370|     1|60.0|           0|            0|           0|        0|             0|            65.78|  2|             1|     0|\n",
      "|43806|     0|44.0|           0|            0|           0|        0|             0|           142.31|  2|             3|     0|\n",
      "|30806|     0|37.0|           0|            0|           0|        1|             0|            87.16|  3|             2|     0|\n",
      "|57679|     0|1.08|           0|            0|           1|        2|             0|           167.66|  1|             1|     0|\n",
      "|68524|     1|38.0|           0|            0|           0|        0|             0|           100.02|  2|             0|     0|\n",
      "|25095|     0|44.0|           0|            0|           0|        3|             0|            94.76|  2|             2|     0|\n",
      "|64597|     1|33.0|           0|            0|           0|        0|             1|             73.2|  2|             1|     0|\n",
      "| 1772|     1|64.0|           0|            0|           0|        3|             0|            77.68|  3|             0|     0|\n",
      "| 6019|     1|57.0|           0|            0|           0|        0|             0|            82.62|  2|             0|     0|\n",
      "+-----+------+----+------------+-------------+------------+---------+--------------+-----------------+---+--------------+------+\n",
      "only showing top 20 rows\n",
      "\n"
     ]
    }
   ],
   "source": [
    "df_all_2 = df_all_1.withColumn('bmi',F.when(F.col('bmi') >30 , 3).otherwise(F.col('bmi')))\n",
    "df_all_2 = df_all_2.withColumn('bmi',F.when(F.col('bmi') >25 , 2).otherwise(F.col('bmi')))\n",
    "df_all_2 = df_all_2.withColumn('bmi',F.when(F.col('bmi') >18.5 , 1).otherwise(F.col('bmi')))\n",
    "df_all_2 = df_all_2.withColumn('bmi',F.when(F.col('bmi') >3 , 0).otherwise(F.col('bmi')))\n",
    "df_all_2 = df_all_2.withColumn('bmi',df_all_2['bmi'].cast('integer'))\n",
    "df_all_2.show()"
   ]
  },
  {
   "cell_type": "code",
   "execution_count": 40,
   "id": "0ac4ae56",
   "metadata": {
    "scrolled": true
   },
   "outputs": [
    {
     "name": "stdout",
     "output_type": "stream",
     "text": [
      "+-----+------+----+------------+-------------+------------+---------+--------------+-----------------+---+--------------+------+\n",
      "|   id|gender| age|hypertension|heart_disease|ever_married|work_type|Residence_type|avg_glucose_level|bmi|smoking_status|stroke|\n",
      "+-----+------+----+------------+-------------+------------+---------+--------------+-----------------+---+--------------+------+\n",
      "|71673|     1|79.0|           0|            0|           0|        0|             0|                0|  1|             2|     1|\n",
      "|63606|     0|29.0|           0|            0|           0|        3|             0|                0|  2|             2|     0|\n",
      "|54866|     1| 9.0|           0|            0|           1|        2|             1|                0|  2|             1|     0|\n",
      "|25315|     0|31.0|           0|            0|           0|        0|             0|                1|  3|             3|     0|\n",
      "|13948|     1|19.0|           0|            0|           1|        4|             0|                0|  2|             0|     0|\n",
      "|44105|     1|69.0|           1|            0|           0|        1|             0|                0|  3|             1|     0|\n",
      "|59894|     1|58.0|           0|            0|           0|        3|             1|                0|  1|             0|     0|\n",
      "|20347|     1|18.0|           0|            0|           1|        0|             1|                0|  1|             0|     0|\n",
      "|52306|     0|57.0|           0|            0|           0|        1|             0|                0|  2|             0|     0|\n",
      "|11726|     1|49.0|           0|            0|           0|        3|             1|                0|  1|             2|     0|\n",
      "|48722|     1|54.0|           0|            0|           0|        0|             0|                0|  3|             2|     0|\n",
      "|59370|     1|60.0|           0|            0|           0|        0|             0|                0|  2|             1|     0|\n",
      "|43806|     0|44.0|           0|            0|           0|        0|             0|                1|  2|             3|     0|\n",
      "|30806|     0|37.0|           0|            0|           0|        1|             0|                0|  3|             2|     0|\n",
      "|57679|     0|1.08|           0|            0|           1|        2|             0|                1|  1|             1|     0|\n",
      "|68524|     1|38.0|           0|            0|           0|        0|             0|                0|  2|             0|     0|\n",
      "|25095|     0|44.0|           0|            0|           0|        3|             0|                0|  2|             2|     0|\n",
      "|64597|     1|33.0|           0|            0|           0|        0|             1|                0|  2|             1|     0|\n",
      "| 1772|     1|64.0|           0|            0|           0|        3|             0|                0|  3|             0|     0|\n",
      "| 6019|     1|57.0|           0|            0|           0|        0|             0|                0|  2|             0|     0|\n",
      "+-----+------+----+------------+-------------+------------+---------+--------------+-----------------+---+--------------+------+\n",
      "only showing top 20 rows\n",
      "\n"
     ]
    }
   ],
   "source": [
    "df_all_2 = df_all_2.withColumn('avg_glucose_level',F.when(F.col('avg_glucose_level') <140 , 0).otherwise(1))\n",
    "df_all_2 = df_all_2.withColumn('avg_glucose_level',df_all_2['avg_glucose_level'].cast('integer'))\n",
    "df_all_2.show()"
   ]
  },
  {
   "cell_type": "code",
   "execution_count": 41,
   "id": "6c00ee7c",
   "metadata": {},
   "outputs": [],
   "source": [
    "#df_all_2.corr('gender','stroke')"
   ]
  },
  {
   "cell_type": "code",
   "execution_count": 42,
   "id": "17c0dc81",
   "metadata": {},
   "outputs": [],
   "source": [
    "#df_all_2.corr('age','stroke')"
   ]
  },
  {
   "cell_type": "code",
   "execution_count": 43,
   "id": "7460170b",
   "metadata": {},
   "outputs": [],
   "source": [
    "#df_all_2.corr('hypertension','stroke')"
   ]
  },
  {
   "cell_type": "code",
   "execution_count": 44,
   "id": "3408e145",
   "metadata": {},
   "outputs": [],
   "source": [
    "#df_all_2.corr('heart_disease','stroke')"
   ]
  },
  {
   "cell_type": "code",
   "execution_count": 45,
   "id": "fde170f6",
   "metadata": {},
   "outputs": [],
   "source": [
    "#df_all_2.corr('ever_married','stroke')"
   ]
  },
  {
   "cell_type": "code",
   "execution_count": 46,
   "id": "6323bcd7",
   "metadata": {},
   "outputs": [],
   "source": [
    "#df_all_2.corr('work_type','stroke')"
   ]
  },
  {
   "cell_type": "code",
   "execution_count": 47,
   "id": "f6753cd3",
   "metadata": {},
   "outputs": [],
   "source": [
    "#df_all_2.corr('Residence_type','stroke')"
   ]
  },
  {
   "cell_type": "code",
   "execution_count": 48,
   "id": "2fc15eb0",
   "metadata": {},
   "outputs": [],
   "source": [
    "#df_all_2.corr('avg_glucose_level','stroke')"
   ]
  },
  {
   "cell_type": "code",
   "execution_count": 49,
   "id": "bb7dbf22",
   "metadata": {},
   "outputs": [],
   "source": [
    "#df_all_2.corr('bmi','stroke')"
   ]
  },
  {
   "cell_type": "code",
   "execution_count": 50,
   "id": "0ca5628d",
   "metadata": {},
   "outputs": [],
   "source": [
    "#df_all_2.corr('smoking_status','stroke')"
   ]
  },
  {
   "cell_type": "code",
   "execution_count": 51,
   "id": "f6198134",
   "metadata": {},
   "outputs": [
    {
     "name": "stdout",
     "output_type": "stream",
     "text": [
      "+-----+----+------------+-------------+-----------------+---+--------------+------+\n",
      "|   id| age|hypertension|heart_disease|avg_glucose_level|bmi|smoking_status|stroke|\n",
      "+-----+----+------------+-------------+-----------------+---+--------------+------+\n",
      "|71673|79.0|           0|            0|                0|  1|             2|     1|\n",
      "|63606|29.0|           0|            0|                0|  2|             2|     0|\n",
      "|54866| 9.0|           0|            0|                0|  2|             1|     0|\n",
      "|25315|31.0|           0|            0|                1|  3|             3|     0|\n",
      "|13948|19.0|           0|            0|                0|  2|             0|     0|\n",
      "|44105|69.0|           1|            0|                0|  3|             1|     0|\n",
      "|59894|58.0|           0|            0|                0|  1|             0|     0|\n",
      "|20347|18.0|           0|            0|                0|  1|             0|     0|\n",
      "|52306|57.0|           0|            0|                0|  2|             0|     0|\n",
      "|11726|49.0|           0|            0|                0|  1|             2|     0|\n",
      "|48722|54.0|           0|            0|                0|  3|             2|     0|\n",
      "|59370|60.0|           0|            0|                0|  2|             1|     0|\n",
      "|43806|44.0|           0|            0|                1|  2|             3|     0|\n",
      "|30806|37.0|           0|            0|                0|  3|             2|     0|\n",
      "|57679|1.08|           0|            0|                1|  1|             1|     0|\n",
      "|68524|38.0|           0|            0|                0|  2|             0|     0|\n",
      "|25095|44.0|           0|            0|                0|  2|             2|     0|\n",
      "|64597|33.0|           0|            0|                0|  2|             1|     0|\n",
      "| 1772|64.0|           0|            0|                0|  3|             0|     0|\n",
      "| 6019|57.0|           0|            0|                0|  2|             0|     0|\n",
      "+-----+----+------------+-------------+-----------------+---+--------------+------+\n",
      "only showing top 20 rows\n",
      "\n"
     ]
    }
   ],
   "source": [
    "df_all_r = df_all_2.select('id','age','hypertension','heart_disease','avg_glucose_level'\n",
    "                           ,'bmi','smoking_status','stroke')\n",
    "df_all_r.show()"
   ]
  },
  {
   "cell_type": "code",
   "execution_count": 52,
   "id": "f5b13549",
   "metadata": {
    "scrolled": false
   },
   "outputs": [],
   "source": [
    "strokeArr = np.array(df_all_r.select('stroke').collect())\n",
    "ageArr = np.array(df_all_r.select('age').collect())\n",
    "#plt.scatter(strokeArr,ageArr)\n",
    "plt.show()"
   ]
  },
  {
   "cell_type": "code",
   "execution_count": 53,
   "id": "004f29fc",
   "metadata": {},
   "outputs": [
    {
     "data": {
      "text/plain": [
       "15"
      ]
     },
     "execution_count": 53,
     "metadata": {},
     "output_type": "execute_result"
    }
   ],
   "source": [
    "df_all_r.filter(df_all_r['stroke'] == 1).filter(df_all_r['age'] < 38).count()"
   ]
  },
  {
   "cell_type": "code",
   "execution_count": 54,
   "id": "57043e5f",
   "metadata": {},
   "outputs": [
    {
     "data": {
      "text/plain": [
       "25061"
      ]
     },
     "execution_count": 54,
     "metadata": {},
     "output_type": "execute_result"
    }
   ],
   "source": [
    "df_all_r2 = df_all_r.filter(df_all_r['age'] >= 38)\n",
    "df_all_r2.count()"
   ]
  },
  {
   "cell_type": "code",
   "execution_count": 55,
   "id": "8c5dc523",
   "metadata": {},
   "outputs": [
    {
     "data": {
      "text/plain": [
       "804"
      ]
     },
     "execution_count": 55,
     "metadata": {},
     "output_type": "execute_result"
    }
   ],
   "source": [
    "df_stroke = df_all_r2.filter(df_all_r['stroke'] == 1)\n",
    "df_stroke_n = df_all_r2.filter(df_all_r['stroke'] == 0).sample(False,0.11,0)\n",
    "df_stroke.count()"
   ]
  },
  {
   "cell_type": "code",
   "execution_count": 56,
   "id": "91df03b6",
   "metadata": {},
   "outputs": [
    {
     "data": {
      "text/plain": [
       "2661"
      ]
     },
     "execution_count": 56,
     "metadata": {},
     "output_type": "execute_result"
    }
   ],
   "source": [
    "df_stroke_n.count()"
   ]
  },
  {
   "cell_type": "code",
   "execution_count": 76,
   "id": "bcf2f7ef",
   "metadata": {},
   "outputs": [
    {
     "data": {
      "text/plain": [
       "3465"
      ]
     },
     "execution_count": 76,
     "metadata": {},
     "output_type": "execute_result"
    }
   ],
   "source": [
    "df_con = df_stroke.unionByName(df_stroke_n)\n",
    "\n",
    "df_con.count()"
   ]
  },
  {
   "cell_type": "code",
   "execution_count": 58,
   "id": "37cb7d11",
   "metadata": {},
   "outputs": [
    {
     "name": "stdout",
     "output_type": "stream",
     "text": [
      "+---+----+------------+-------------+-----------------+---+--------------+------+\n",
      "| id| age|hypertension|heart_disease|avg_glucose_level|bmi|smoking_status|stroke|\n",
      "+---+----+------------+-------------+-----------------+---+--------------+------+\n",
      "| 29|44.0|           1|            0|                0|  2|             0|     0|\n",
      "| 56|48.0|           0|            0|                1|  3|             2|     0|\n",
      "| 80|79.0|           0|            0|                0|  1|             2|     1|\n",
      "| 84|55.0|           0|            0|                0|  3|             0|     0|\n",
      "| 87|79.0|           0|            0|                0|  3|             2|     0|\n",
      "| 93|53.0|           0|            0|                0|  3|             2|     0|\n",
      "|105|81.0|           1|            0|                1|  2|             0|     0|\n",
      "|210|81.0|           0|            0|                0|  3|             0|     1|\n",
      "|239|59.0|           1|            1|                1|  2|             2|     0|\n",
      "|256|62.0|           0|            0|                0|  1|             0|     0|\n",
      "|263|71.0|           0|            0|                1|  3|             3|     0|\n",
      "|284|40.0|           0|            0|                0|  2|             1|     0|\n",
      "|290|48.0|           0|            0|                1|  1|             0|     0|\n",
      "|301|46.0|           0|            0|                0|  3|             0|     0|\n",
      "|306|51.0|           0|            0|                0|  1|             0|     0|\n",
      "|350|80.0|           0|            0|                0|  2|             2|     0|\n",
      "|371|81.0|           0|            1|                0|  0|             2|     0|\n",
      "|378|53.0|           0|            0|                0|  2|             0|     0|\n",
      "|405|55.0|           0|            0|                0|  2|             1|     0|\n",
      "|440|42.0|           0|            0|                0|  3|             1|     0|\n",
      "+---+----+------------+-------------+-----------------+---+--------------+------+\n",
      "only showing top 20 rows\n",
      "\n"
     ]
    }
   ],
   "source": [
    "df_con.sort('id').show()"
   ]
  },
  {
   "cell_type": "code",
   "execution_count": 77,
   "id": "7821d2fb",
   "metadata": {},
   "outputs": [
    {
     "name": "stdout",
     "output_type": "stream",
     "text": [
      "+-----+---------+\n",
      "|   id|age_grade|\n",
      "+-----+---------+\n",
      "|71673|        8|\n",
      "|62439|        2|\n",
      "| 5563|        7|\n",
      "|40899|        8|\n",
      "|62466|        8|\n",
      "|70822|        8|\n",
      "|58202|        2|\n",
      "| 3352|        8|\n",
      "|60739|        8|\n",
      "| 2390|        8|\n",
      "|60491|        8|\n",
      "|29281|        7|\n",
      "|52282|        3|\n",
      "|16817|        8|\n",
      "|32503|        8|\n",
      "|37132|        8|\n",
      "|23368|        7|\n",
      "|18587|        7|\n",
      "|30184|        8|\n",
      "| 8752|        5|\n",
      "+-----+---------+\n",
      "only showing top 20 rows\n",
      "\n"
     ]
    }
   ],
   "source": [
    "df_temp = df_con.select('id','age')\n",
    "df_temp = df_temp.withColumn('age',F.when(F.col('age') >77 , 8).otherwise(F.col('age')))\n",
    "df_temp = df_temp.withColumn('age',F.when(F.col('age') >72 , 7).otherwise(F.col('age')))\n",
    "df_temp = df_temp.withColumn('age',F.when(F.col('age') >67 , 6).otherwise(F.col('age')))\n",
    "df_temp = df_temp.withColumn('age',F.when(F.col('age') >62 , 5).otherwise(F.col('age')))\n",
    "df_temp = df_temp.withColumn('age',F.when(F.col('age') >57 , 4).otherwise(F.col('age')))\n",
    "df_temp = df_temp.withColumn('age',F.when(F.col('age') >52 , 3).otherwise(F.col('age')))\n",
    "df_temp = df_temp.withColumn('age',F.when(F.col('age') >47 , 2).otherwise(F.col('age')))\n",
    "df_temp = df_temp.withColumn('age',F.when(F.col('age') >42 , 1).otherwise(F.col('age')))\n",
    "df_temp = df_temp.withColumn('age',F.when(F.col('age') >37 , 0).otherwise(F.col('age')))\n",
    "df_temp = df_temp.withColumn(\"age\",df_temp.age.cast('integer'))\n",
    "df_temp = df_temp.withColumnRenamed( \"age\" , \"age_grade\" )\n",
    "df_temp.show()"
   ]
  },
  {
   "cell_type": "code",
   "execution_count": 84,
   "id": "1c7449de",
   "metadata": {},
   "outputs": [
    {
     "name": "stdout",
     "output_type": "stream",
     "text": [
      "+-----+----+------------+-------------+-----------------+---+--------------+------+-----+---------+\n",
      "|   id| age|hypertension|heart_disease|avg_glucose_level|bmi|smoking_status|stroke|   id|age_grade|\n",
      "+-----+----+------------+-------------+-----------------+---+--------------+------+-----+---------+\n",
      "|71673|79.0|           0|            0|                0|  1|             2|     1|71673|        8|\n",
      "|62439|51.0|           0|            0|                0|  2|             2|     1|62439|        2|\n",
      "| 5563|77.0|           0|            0|                0|  3|             0|     1| 5563|        7|\n",
      "|40899|78.0|           0|            0|                0|  2|             2|     1|40899|        8|\n",
      "|40899|78.0|           0|            0|                0|  2|             2|     1|40899|        8|\n",
      "|62466|80.0|           0|            0|                0|  3|             0|     1|62466|        8|\n",
      "|70822|80.0|           0|            0|                0|  1|             0|     1|70822|        8|\n",
      "|58202|50.0|           1|            0|                1|  3|             0|     1|58202|        2|\n",
      "| 3352|78.0|           1|            0|                0|  2|             2|     1| 3352|        8|\n",
      "| 3352|78.0|           1|            0|                0|  2|             2|     1| 3352|        8|\n",
      "|60739|79.0|           1|            1|                0|  2|             0|     1|60739|        8|\n",
      "|60739|79.0|           1|            1|                0|  2|             0|     1|60739|        8|\n",
      "| 2390|78.0|           0|            0|                0|  2|             0|     1| 2390|        8|\n",
      "|60491|78.0|           0|            0|                0|  1|             1|     1|60491|        8|\n",
      "|29281|76.0|           1|            0|                1|  2|             2|     1|29281|        7|\n",
      "|52282|57.0|           0|            0|                1|  3|             2|     1|52282|        3|\n",
      "|16817|78.0|           1|            0|                0|  1|             0|     1|16817|        8|\n",
      "|32503|80.0|           0|            0|                0|  3|             0|     1|32503|        8|\n",
      "|37132|82.0|           0|            0|                1|  2|             2|     1|37132|        8|\n",
      "|23368|77.0|           1|            0|                1|  2|             2|     1|23368|        7|\n",
      "+-----+----+------------+-------------+-----------------+---+--------------+------+-----+---------+\n",
      "only showing top 20 rows\n",
      "\n"
     ]
    }
   ],
   "source": [
    "df_con_d = df_con.join(df_temp,on=(df_temp.id == df_con.id),how = 'inner')\n",
    "df_con_d.show()"
   ]
  },
  {
   "cell_type": "code",
   "execution_count": 61,
   "id": "08cf03d0",
   "metadata": {},
   "outputs": [
    {
     "data": {
      "image/png": "[encoded data removed]",
      "text/plain": [
       "<Figure size 432x288 with 1 Axes>"
      ]
     },
     "metadata": {
      "needs_background": "light"
     },
     "output_type": "display_data"
    }
   ],
   "source": [
    "ageArr1 = np.array(df_all_r2.select('age').collect())\n",
    "plt.hist(ageArr1,bins = 20)\n",
    "plt.show()"
   ]
  },
  {
   "cell_type": "code",
   "execution_count": 86,
   "id": "d7ce5e80",
   "metadata": {},
   "outputs": [
    {
     "data": {
      "image/png": "[encoded data removed]",
      "text/plain": [
       "<Figure size 432x288 with 1 Axes>"
      ]
     },
     "metadata": {
      "needs_background": "light"
     },
     "output_type": "display_data"
    }
   ],
   "source": [
    "ageArr2 = np.array(df_con_d.select('age').collect())\n",
    "plt.hist(ageArr2,bins = 20)\n",
    "plt.show()"
   ]
  },
  {
   "cell_type": "code",
   "execution_count": 88,
   "id": "ba22716d",
   "metadata": {},
   "outputs": [],
   "source": [
    "df_con_d.toPandas().to_csv('df_con.csv')"
   ]
  },
  {
   "cell_type": "code",
   "execution_count": null,
   "id": "77640820",
   "metadata": {},
   "outputs": [],
   "source": []
  }
 ],
 "metadata": {
  "kernelspec": {
   "display_name": "Python 3",
   "language": "python",
   "name": "python3"
  },
  "language_info": {
   "codemirror_mode": {
    "name": "ipython",
    "version": 3
   },
   "file_extension": ".py",
   "mimetype": "text/x-python",
   "name": "python",
   "nbconvert_exporter": "python",
   "pygments_lexer": "ipython3",
   "version": "3.8.8"
  }
 },
 "nbformat": 4,
 "nbformat_minor": 5
}
